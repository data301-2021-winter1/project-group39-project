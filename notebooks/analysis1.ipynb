{
 "cells": [
  {
   "cell_type": "markdown",
   "metadata": {},
   "source": [
    "# Shawna Bilodeau"
   ]
  },
  {
   "cell_type": "markdown",
   "metadata": {},
   "source": [
    "## Research question/interests\n",
    "\n",
    "Is there a specific overlap between gender and a specific age that is more likely to result in death?"
   ]
  },
  {
   "cell_type": "markdown",
   "metadata": {},
   "source": [
    "## Milestone 3\n",
    "### Task 3: Method Chaining and writing python"
   ]
  },
  {
   "cell_type": "code",
   "execution_count": 1,
   "metadata": {},
   "outputs": [],
   "source": [
    "#Import Libraries\n",
    "import numpy as np\n",
    "import pandas as pd\n",
    "import seaborn as sns\n",
    "import matplotlib.pylab as plt\n",
    "#Removing limit on how many columns I can see\n",
    "pd.set_option(\"display.max_columns\", None)\n",
    "pd.set_option(\"display.max_rows\", None)\n",
    "#Importing Functions\n",
    "from scripts.project_functions1 import *"
   ]
  },
  {
   "cell_type": "code",
   "execution_count": 56,
   "metadata": {},
   "outputs": [],
   "source": [
    "df1 = (\n",
    "    pd.read_csv(\"../data/raw/raw_data.csv\")\n",
    "    .iloc[:, np.r_[1,2,46:58,93:105]]\n",
    "    .iloc[36:,]\n",
    "    .drop(columns=\"caseAgeUnknown\")\n",
    "    .drop(columns=\"deathAgeUnknown\")\n",
    ")"
   ]
  },
  {
   "cell_type": "code",
   "execution_count": 57,
   "metadata": {},
   "outputs": [],
   "source": [
    "try:\n",
    "    df2=df_percentage(df1,'case0to9','death0to9','perc0to9')\n",
    "    df2=df_percentage(df1,'case10to19','death10to19','perc10to19')\n",
    "    df2=df_percentage(df1,'case20to29','death20to29','perc20to29')\n",
    "    df2=df_percentage(df1,'case30to39','death30to39','perc30to39')\n",
    "    df2=df_percentage(df1,'case40to49','death40to49','perc40to49')\n",
    "    df2=df_percentage(df1,'case50to59','death50to59','perc50to59')\n",
    "    df2=df_percentage(df1,'case60to69','death60to69','perc60to69')\n",
    "    df2=df_percentage(df1,'case70to79','death70to79','perc70to79')\n",
    "    df2=df_percentage(df1,'case80plus','death80plus','perc80plus')\n",
    "except:\n",
    "    print(\"Something wrong in the ages\")\n",
    "try:\n",
    "    df2=df_percentage(df1,'genMale','deathGenMale','percMale')\n",
    "    df2=df_percentage(df1,'genFemale','deathGenFemale','percFemale')\n",
    "except:\n",
    "    print(\"Something wring in the genders\")"
   ]
  },
  {
   "cell_type": "code",
   "execution_count": 69,
   "metadata": {},
   "outputs": [
    {
     "data": {
      "text/html": [
       "<div>\n",
       "<style scoped>\n",
       "    .dataframe tbody tr th:only-of-type {\n",
       "        vertical-align: middle;\n",
       "    }\n",
       "\n",
       "    .dataframe tbody tr th {\n",
       "        vertical-align: top;\n",
       "    }\n",
       "\n",
       "    .dataframe thead th {\n",
       "        text-align: right;\n",
       "    }\n",
       "</style>\n",
       "<table border=\"1\" class=\"dataframe\">\n",
       "  <thead>\n",
       "    <tr style=\"text-align: right;\">\n",
       "      <th></th>\n",
       "      <th>perc0to9</th>\n",
       "      <th>perc10to19</th>\n",
       "      <th>perc20to29</th>\n",
       "      <th>perc30to39</th>\n",
       "      <th>perc40to49</th>\n",
       "      <th>perc50to59</th>\n",
       "      <th>perc60to69</th>\n",
       "      <th>perc70to79</th>\n",
       "      <th>perc80plus</th>\n",
       "      <th>percMale</th>\n",
       "      <th>percFemale</th>\n",
       "    </tr>\n",
       "  </thead>\n",
       "  <tbody>\n",
       "    <tr>\n",
       "      <th>36</th>\n",
       "      <td>0.0</td>\n",
       "      <td>0.0</td>\n",
       "      <td>0.000000</td>\n",
       "      <td>0.003717</td>\n",
       "      <td>0.003493</td>\n",
       "      <td>0.012480</td>\n",
       "      <td>0.030668</td>\n",
       "      <td>0.071667</td>\n",
       "      <td>0.139610</td>\n",
       "      <td>0.029668</td>\n",
       "      <td>0.015964</td>\n",
       "    </tr>\n",
       "    <tr>\n",
       "      <th>37</th>\n",
       "      <td>0.0</td>\n",
       "      <td>0.0</td>\n",
       "      <td>0.000000</td>\n",
       "      <td>0.004149</td>\n",
       "      <td>0.003903</td>\n",
       "      <td>0.014075</td>\n",
       "      <td>0.030447</td>\n",
       "      <td>0.074453</td>\n",
       "      <td>0.156334</td>\n",
       "      <td>0.031726</td>\n",
       "      <td>0.018385</td>\n",
       "    </tr>\n",
       "    <tr>\n",
       "      <th>38</th>\n",
       "      <td>0.0</td>\n",
       "      <td>0.0</td>\n",
       "      <td>0.001170</td>\n",
       "      <td>0.006074</td>\n",
       "      <td>0.003539</td>\n",
       "      <td>0.014058</td>\n",
       "      <td>0.036810</td>\n",
       "      <td>0.075297</td>\n",
       "      <td>0.161731</td>\n",
       "      <td>0.034046</td>\n",
       "      <td>0.020531</td>\n",
       "    </tr>\n",
       "    <tr>\n",
       "      <th>39</th>\n",
       "      <td>0.0</td>\n",
       "      <td>0.0</td>\n",
       "      <td>0.001104</td>\n",
       "      <td>0.006475</td>\n",
       "      <td>0.003324</td>\n",
       "      <td>0.014925</td>\n",
       "      <td>0.042079</td>\n",
       "      <td>0.079657</td>\n",
       "      <td>0.158635</td>\n",
       "      <td>0.035912</td>\n",
       "      <td>0.022307</td>\n",
       "    </tr>\n",
       "    <tr>\n",
       "      <th>40</th>\n",
       "      <td>0.0</td>\n",
       "      <td>0.0</td>\n",
       "      <td>0.001031</td>\n",
       "      <td>0.005956</td>\n",
       "      <td>0.003054</td>\n",
       "      <td>0.014436</td>\n",
       "      <td>0.044039</td>\n",
       "      <td>0.083238</td>\n",
       "      <td>0.157895</td>\n",
       "      <td>0.035323</td>\n",
       "      <td>0.024219</td>\n",
       "    </tr>\n",
       "  </tbody>\n",
       "</table>\n",
       "</div>"
      ],
      "text/plain": [
       "    perc0to9  perc10to19  perc20to29  perc30to39  perc40to49  perc50to59  \\\n",
       "36       0.0         0.0    0.000000    0.003717    0.003493    0.012480   \n",
       "37       0.0         0.0    0.000000    0.004149    0.003903    0.014075   \n",
       "38       0.0         0.0    0.001170    0.006074    0.003539    0.014058   \n",
       "39       0.0         0.0    0.001104    0.006475    0.003324    0.014925   \n",
       "40       0.0         0.0    0.001031    0.005956    0.003054    0.014436   \n",
       "\n",
       "    perc60to69  perc70to79  perc80plus  percMale  percFemale  \n",
       "36    0.030668    0.071667    0.139610  0.029668    0.015964  \n",
       "37    0.030447    0.074453    0.156334  0.031726    0.018385  \n",
       "38    0.036810    0.075297    0.161731  0.034046    0.020531  \n",
       "39    0.042079    0.079657    0.158635  0.035912    0.022307  \n",
       "40    0.044039    0.083238    0.157895  0.035323    0.024219  "
      ]
     },
     "execution_count": 69,
     "metadata": {},
     "output_type": "execute_result"
    }
   ],
   "source": [
    "df3=df2.iloc[:, np.r_[24:35]] #Making a third dataframe for easier visualization\n",
    "df3.head()"
   ]
  },
  {
   "cell_type": "markdown",
   "metadata": {},
   "source": [
    "### Task 4: Visualization"
   ]
  },
  {
   "cell_type": "code",
   "execution_count": null,
   "metadata": {},
   "outputs": [],
   "source": []
  }
 ],
 "metadata": {
  "kernelspec": {
   "display_name": "Python 3",
   "language": "python",
   "name": "python3"
  },
  "language_info": {
   "codemirror_mode": {
    "name": "ipython",
    "version": 3
   },
   "file_extension": ".py",
   "mimetype": "text/x-python",
   "name": "python",
   "nbconvert_exporter": "python",
   "pygments_lexer": "ipython3",
   "version": "3.9.5"
  }
 },
 "nbformat": 4,
 "nbformat_minor": 4
}
