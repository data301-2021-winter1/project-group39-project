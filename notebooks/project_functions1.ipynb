{
 "cells": [
  {
   "cell_type": "markdown",
   "id": "0325ba2f-87ed-4925-bb18-4841332c09d1",
   "metadata": {},
   "source": [
    "# Shawna Bilodeau - Project functions"
   ]
  },
  {
   "cell_type": "code",
   "execution_count": 3,
   "id": "fc1bfc9d-19c9-4033-8e8a-de96ffc37d37",
   "metadata": {},
   "outputs": [],
   "source": [
    "def load_and_clean(df):\n",
    "    \"\"\"\n",
    "    Used to select the columns wanted from a specific data set\n",
    "    (only for the COVID data set we have and not useful for any other tests)\n",
    "    \"\"\"\n",
    "    df1 = pd.read_csv(\"../data/raw/raw_data.csv\")\n",
    "    df2 = df1.iloc[:, np.r_[1,2,46:65,93:111]]\n",
    "    return df2.head()"
   ]
  },
  {
   "cell_type": "code",
   "execution_count": 4,
   "id": "7a4a99a7-ef93-4f48-9c7e-94538fd8dab8",
   "metadata": {},
   "outputs": [],
   "source": [
    "def df_process(df,column1,column2):\n",
    "    \"\"\"\n",
    "    processing the data so that we get the percentage of people who died among that specific demografic\n",
    "    \n",
    "    parameters\n",
    "    ---------\n",
    "    df: dataframe you're pulling from\n",
    "    column1: The living column\n",
    "    column2: The dead column\n",
    "    \n",
    "    Results\n",
    "    -------\n",
    "    Fixed dataframe so that only the percentage of the two columns remain\n",
    "    \"\"\"\n",
    "    return df[{column1}] == df[{column2}]/df[{column1}]\n",
    "    df = df.drop([{column1},{column2}], axis='columns')"
   ]
  },
  {
   "cell_type": "code",
   "execution_count": 6,
   "id": "808e43bf-419f-4f70-b9aa-07f44b4e744b",
   "metadata": {},
   "outputs": [],
   "source": [
    "def df_process2(df,column1,column2):\n",
    "    \"\"\"\n",
    "    processing the data so that we get the percentage of people who died among that specific demografic\n",
    "    \n",
    "    parameters\n",
    "    ---------\n",
    "    df: dataframe you're pulling from\n",
    "    column1: The living column\n",
    "    column2: The dead column\n",
    "    \n",
    "    Results\n",
    "    -------\n",
    "    Fixed dataframe so that only the percentage of the two columns remain\n",
    "    \"\"\"\n",
    "    df[{column1}] = df[{column2}]/df[{column1}]\n",
    "    df = df.drop([{column1},{column2}], axis='columns')\n",
    "    return df.head()"
   ]
  },
  {
   "cell_type": "code",
   "execution_count": null,
   "id": "6b58c129-cb60-4c72-8aed-00dc5ff387e3",
   "metadata": {},
   "outputs": [],
   "source": []
  }
 ],
 "metadata": {
  "kernelspec": {
   "display_name": "Python 3",
   "language": "python",
   "name": "python3"
  },
  "language_info": {
   "codemirror_mode": {
    "name": "ipython",
    "version": 3
   },
   "file_extension": ".py",
   "mimetype": "text/x-python",
   "name": "python",
   "nbconvert_exporter": "python",
   "pygments_lexer": "ipython3",
   "version": "3.9.5"
  }
 },
 "nbformat": 4,
 "nbformat_minor": 5
}
