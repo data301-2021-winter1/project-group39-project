{
 "cells": [
  {
   "cell_type": "markdown",
   "source": [
    "# Jeena Javahar"
   ],
   "metadata": {}
  },
  {
   "cell_type": "markdown",
   "source": [
    "## Research question/interests\r\n",
    "\r\n",
    "The following are research questions I am interested in:\r\n",
    "1. How did the pandemic affect different communities\r\n",
    "2. How did the ratio of deaths to positive cases change over time? Did it get better or worse?\r\n",
    "3. Did ICU beds available affect ratio of deaths to positive cases?\r\n",
    "4. When did cases fall or spike, was it uniform across "
   ],
   "metadata": {}
  }
 ],
 "metadata": {
  "orig_nbformat": 4,
  "language_info": {
   "name": "plaintext"
  }
 },
 "nbformat": 4,
 "nbformat_minor": 2
}